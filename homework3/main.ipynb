{
 "metadata": {
  "language_info": {
   "codemirror_mode": {
    "name": "ipython",
    "version": 3
   },
   "file_extension": ".py",
   "mimetype": "text/x-python",
   "name": "python",
   "nbconvert_exporter": "python",
   "pygments_lexer": "ipython3",
   "version": "3.7.9-final"
  },
  "orig_nbformat": 2,
  "kernelspec": {
   "name": "python3",
   "display_name": "Python 3.7.9 64-bit ('homework3': conda)",
   "metadata": {
    "interpreter": {
     "hash": "9643c71f32b7b85454e4a6c5ff89025e6caec9136c3bc2d36339609dea6b676d"
    }
   }
  }
 },
 "nbformat": 4,
 "nbformat_minor": 2,
 "cells": [
  {
   "cell_type": "code",
   "execution_count": 1,
   "metadata": {},
   "outputs": [],
   "source": [
    "#导入需要的库\n",
    "import torch\n",
    "import torch.nn as nn\n",
    "import numpy as np\n",
    "import matplotlib.pyplot as plt\n",
    "import torch.optim as optim\n",
    "%matplotlib inline"
   ]
  },
  {
   "cell_type": "code",
   "execution_count": 2,
   "metadata": {},
   "outputs": [],
   "source": [
    "#读取数据\n",
    "aural = np.load(r'data/mod_aural.npy')\n",
    "social = np.load(r'data/mod_social.npy')\n",
    "textual = np.load(r'data/mod_textual.npy')\n",
    "visual = np.load(r'data/mod_visual.npy')\n",
    "train = np.load(r'data/train.npy')\n",
    "#训练数据\n",
    "aural_train = aural[:1600,:]\n",
    "social_train = social[:1600,:]\n",
    "textual_train = textual[:1600,:]\n",
    "visual_train = visual[:1600,:]\n",
    "#测试数据\n",
    "aural_test = aural[1600:,:]\n",
    "social_test = social[1600:,:]\n",
    "textual_test = textual[1600:,:]\n",
    "visual_test = visual[1600:,:]"
   ]
  },
  {
   "source": [
    "# 尝试做一元线性回归\n",
    "Y = WX + B"
   ],
   "cell_type": "markdown",
   "metadata": {}
  },
  {
   "cell_type": "code",
   "execution_count": 12,
   "metadata": {},
   "outputs": [
    {
     "output_type": "stream",
     "name": "stdout",
     "text": [
      "m： 1600 n0： 279 nL: 1\n"
     ]
    }
   ],
   "source": [
    "#连接数据\n",
    "linear_train = np.concatenate([aural_train, social_train,textual_train,visual_train], 1)\n",
    "linear_test = np.concatenate([aural_test,social_test,textual_test,visual_test],1)\n",
    "\n",
    "m = linear_train.shape[0]\n",
    "n0 = linear_train.shape[1]\n",
    "nL = int(train.size/m)\n",
    "print('m：',m,'n0：',n0,'nL:',nL)"
   ]
  },
  {
   "cell_type": "code",
   "execution_count": 19,
   "metadata": {},
   "outputs": [],
   "source": [
    "class LRnet(nn.Module):\n",
    "    \"\"\"\n",
    "    Linear Regressoin Module, the input features and output \n",
    "    features are defaults both 1\n",
    "    \"\"\"\n",
    "    def __init__(self):\n",
    "        super().__init__()\n",
    "        self.hidden = nn.Linear(n0,nL)\n",
    "        self.predict = nn.Linear(nL,nL) \n",
    "    \n",
    "    def forward(self,x):\n",
    "        x = nn.functional.relu(self.hidden(x))      # activation function for hidden layer\n",
    "        x = self.predict(x)             # linear output\n",
    "        return x"
   ]
  },
  {
   "cell_type": "code",
   "execution_count": 28,
   "metadata": {},
   "outputs": [
    {
     "output_type": "stream",
     "name": "stdout",
     "text": [
      "LRnet(\n  (hidden): Linear(in_features=279, out_features=1, bias=True)\n  (predict): Linear(in_features=1, out_features=1, bias=True)\n)\n"
     ]
    }
   ],
   "source": [
    "reg = LRnet()\n",
    "print(reg)\n",
    "optimizer = torch.optim.SGD(reg.parameters(), lr=0.2)\n",
    "loss_func = torch.nn.MSELoss()\n",
    "plt.ion() "
   ]
  },
  {
   "cell_type": "code",
   "execution_count": 30,
   "metadata": {},
   "outputs": [
    {
     "output_type": "error",
     "ename": "SyntaxError",
     "evalue": "invalid character in identifier (<ipython-input-30-ca3f373ce640>, line 4)",
     "traceback": [
      "\u001b[0;36m  File \u001b[0;32m\"<ipython-input-30-ca3f373ce640>\"\u001b[0;36m, line \u001b[0;32m4\u001b[0m\n\u001b[0;31m    loss = loss_func（prediction,data['y'])\u001b[0m\n\u001b[0m                              ^\u001b[0m\n\u001b[0;31mSyntaxError\u001b[0m\u001b[0;31m:\u001b[0m invalid character in identifier\n"
     ]
    }
   ],
   "source": [
    "data = {'x':torch.from_numpy(linear_train),'y':torch.from_numpy(train)}\n",
    "for t in range(200):\n",
    "    prediction = reg(data['x'])\n",
    "    loss = loss_func（prediction,data['y'])\n",
    "    \n",
    "    optimizer.zero_grad()   # clear gradients for next train\n",
    "    loss.backward()         # backpropagation, compute gradients\n",
    "    optimizer.step()        # apply gradients"
   ]
  },
  {
   "cell_type": "code",
   "execution_count": null,
   "metadata": {},
   "outputs": [],
   "source": []
  }
 ]
}